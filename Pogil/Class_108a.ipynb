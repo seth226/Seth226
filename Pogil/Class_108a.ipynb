{
  "cells": [
    {
      "cell_type": "markdown",
      "metadata": {
        "id": "kO91MNPMFfaX"
      },
      "source": [
        "# Chapter 8a: Lecture Coding Activities"
      ]
    },
    {
      "cell_type": "markdown",
      "metadata": {
        "id": "4ukfsGNTx8Wi"
      },
      "source": [
        "## Model 1: Point"
      ]
    },
    {
      "cell_type": "markdown",
      "metadata": {
        "id": "tCZxet7Eq4ul"
      },
      "source": [
        "* Review the following code starting with the class definition.\n",
        "* Locate the class member function definitions.\n",
        "* Set the `x` and `y` values using the `target` mutators.\n",
        "* Get the distance from the origin by calling `distanceFromOrigin`.\n",
        "* Challenge: Add a class member function that calculates the distance from another point using the following as the function prototype:\n",
        "\n",
        "```C++\n",
        "double distanceFrom(Point other);\n",
        "```"
      ]
    },
    {
      "cell_type": "code",
      "execution_count": null,
      "metadata": {
        "vscode": {
          "languageId": "plaintext"
        },
        "id": "ndTR3Dmbq4um"
      },
      "outputs": [],
      "source": [
        "%%writefile main.cpp\n",
        "#include <iostream>\n",
        "#include <math.h> // pow\n",
        "using namespace std;\n",
        "\n",
        "class Point {\n",
        "public:\n",
        "  void setX(int newX);\n",
        "  void setY(int newY);\n",
        "  double distanceFromOrigin();\n",
        "\n",
        "private:\n",
        "  int x, y;\n",
        "};\n",
        "\n",
        "// main entry point\n",
        "int main() {\n",
        "  // use the new class\n",
        "  Point target;\n",
        "  int x, y;\n",
        "  double distance;\n",
        "  cout << \"Enter x coordinate: \";\n",
        "  cin >> x;\n",
        "  cout << \"Enter y coordinate: \";\n",
        "  cin >> y;\n",
        "\n",
        "  // TODO: assign values\n",
        "  target.setX(x);\n",
        "  target.setY(y);\n",
        "\n",
        "  // TODO: obtain distance\n",
        "  distance = distanceFromOrigin();\n",
        "\n",
        "  cout << \"The target is \" << distance << \" units from origin.\" << endl;\n",
        "\n",
        "  return 0;\n",
        "}\n",
        "\n",
        "//\tClass implementation comes later!\n",
        "void Point::setX(int newX) {\n",
        "  x = newX;\n",
        "}\n",
        "\n",
        "void Point::setY(int newY) {\n",
        "  y = newY;\n",
        "}\n",
        "\n",
        "double Point::distanceFromOrigin() {\n",
        "  return sqrt(pow(x, 2) + pow(y, 2));\n",
        "}"
      ]
    },
    {
      "cell_type": "code",
      "execution_count": null,
      "metadata": {
        "vscode": {
          "languageId": "plaintext"
        },
        "id": "K6MXezr1q4um"
      },
      "outputs": [],
      "source": [
        "%%script bash\n",
        "g++ main.cpp -o main && echo \"3 4\" | ./main"
      ]
    },
    {
      "cell_type": "markdown",
      "metadata": {
        "id": "LCJ7Sttgq4um"
      },
      "source": [
        "## Model 2: Constructors\n",
        "\n",
        "Tasks:\n",
        "* Create a constructor that takes two parameters\n",
        "  * length and width\n",
        "* Create a constructor that takes three parameters\n",
        "  * length, width, and symbol\n",
        "\n",
        "Steps:\n",
        "* Define the constructor prototypes.\n",
        "* Write out the constructor definition.\n",
        "* Call the new constructor from `main()`."
      ]
    },
    {
      "cell_type": "code",
      "execution_count": null,
      "metadata": {
        "vscode": {
          "languageId": "plaintext"
        },
        "id": "OWq-NPawq4un"
      },
      "outputs": [],
      "source": [
        "%%writefile main.cpp\n",
        "#include <iostream>\n",
        "using namespace std;\n",
        "\n",
        "class Rectangle {\n",
        "public:\n",
        "  Rectangle();\n",
        "\n",
        "  // TODO Create a constructor with length and width parameters\n",
        "\n",
        "  // TODO Create a constructor with length, width, and symbol parameters\n",
        "\n",
        "  int getArea();\n",
        "  void drawRectangle();\n",
        "\n",
        "private:\n",
        "  int length;\n",
        "  int width;\n",
        "  char symbol = '*';\n",
        "};\n",
        "\n",
        "Rectangle::Rectangle() {\n",
        "  length = 1;\n",
        "  width = 1;\n",
        "}\n",
        "\n",
        "// TODO Define the constructor with length and width parameters\n",
        "\n",
        "// TODO Define the constructor with length, width, and symbol parameters\n",
        "\n",
        "int Rectangle::getArea() {\n",
        "  return length * width;\n",
        "}\n",
        "\n",
        "void Rectangle::drawRectangle() {\n",
        "  for (int l = 0; l < length; l++) {\n",
        "    for (int w = 0; w < width; w++) {\n",
        "      cout << symbol;\n",
        "    }\n",
        "    cout << endl;\n",
        "  }\n",
        "}\n",
        "\n",
        "int main() {\n",
        "  // With Default Constructor\n",
        "  Rectangle rect;\n",
        "  cout << \"The rectangle area is \" << rect.getArea() << \".\" << endl;\n",
        "  rect.drawRectangle();\n",
        "\n",
        "  // Get user input for length and width.\n",
        "  int length, width;\n",
        "  cout << \"Rectangle length: \";\n",
        "  cin >> length;\n",
        "  cout << \"Rectangle width: \";\n",
        "  cin >> width;\n",
        "\n",
        "  // TODO Call a constructor using the user's length and width.\n",
        "\n",
        "  // Print the rectangle using the user's length and width specifications.\n",
        "  cout << \"The rectangle area is \" << rect2.getArea() << \".\" << endl;\n",
        "  rect2.drawRectangle();\n",
        "\n",
        "  // Get user input for length, width, and symbol.\n",
        "  char symbol;\n",
        "  cout << \"Rectangle length: \";\n",
        "  cin >> length;\n",
        "  cout << \"Rectangle width: \";\n",
        "  cin >> width;\n",
        "  cout << \"The symbol to draw with: \";\n",
        "  cin >> symbol;\n",
        "\n",
        "  // TODO Call a constructor using the user's length, width and sympol.\n",
        "\n",
        "  // Print the rectangle using the user's length, width, and symbol\n",
        "  // specifications.\n",
        "  cout << \"The rectangle area is \" << rect3.getArea() << \".\" << endl;\n",
        "  rect3.drawRectangle();\n",
        "\n",
        "  return 0;\n",
        "}"
      ]
    },
    {
      "cell_type": "code",
      "execution_count": null,
      "metadata": {
        "vscode": {
          "languageId": "plaintext"
        },
        "id": "5zYKfWqFq4un"
      },
      "outputs": [],
      "source": [
        "%%script bash\n",
        "g++ main.cpp -o main && echo \"3 4 4 5 +\" | ./main"
      ]
    }
  ],
  "metadata": {
    "colab": {
      "provenance": []
    },
    "kernelspec": {
      "display_name": ".venv",
      "language": "python",
      "name": "python3"
    },
    "language_info": {
      "codemirror_mode": {
        "name": "ipython",
        "version": 3
      },
      "file_extension": ".py",
      "mimetype": "text/x-python",
      "name": "python",
      "nbconvert_exporter": "python",
      "pygments_lexer": "ipython3",
      "version": "3.13.1"
    }
  },
  "nbformat": 4,
  "nbformat_minor": 0
}