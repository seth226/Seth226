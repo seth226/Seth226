{
  "cells": [
    {
      "cell_type": "markdown",
      "metadata": {
        "id": "kO91MNPMFfaX"
      },
      "source": [
        "# Chapter 8a: Lecture Coding Activities"
      ]
    },
    {
      "cell_type": "markdown",
      "metadata": {
        "id": "4ukfsGNTx8Wi"
      },
      "source": [
        "## Model 1: Point"
      ]
    },
    {
      "cell_type": "markdown",
      "metadata": {
        "id": "tCZxet7Eq4ul"
      },
      "source": [
        "* Review the following code starting with the class definition.\n",
        "* Locate the class member function definitions.\n",
        "* Set the `x` and `y` values using the `target` mutators.\n",
        "* Get the distance from the origin by calling `distanceFromOrigin`.\n",
        "* Challenge: Add a class member function that calculates the distance from another point using the following as the function prototype:\n",
        "\n",
        "```C++\n",
        "double distanceFrom(Point other);\n",
        "```"
      ]
    },
    {
      "cell_type": "code",
      "execution_count": 23,
      "metadata": {
        "vscode": {
          "languageId": "plaintext"
        },
        "colab": {
          "base_uri": "https://localhost:8080/"
        },
        "id": "ndTR3Dmbq4um",
        "outputId": "09fe62a4-b4eb-4503-d340-e6e74cd38aa1"
      },
      "outputs": [
        {
          "output_type": "stream",
          "name": "stdout",
          "text": [
            "Overwriting main.cpp\n"
          ]
        }
      ],
      "source": [
        "%%writefile main.cpp\n",
        "#include <iostream>\n",
        "#include <math.h> // pow\n",
        "using namespace std;\n",
        "\n",
        "class Point {\n",
        "public:\n",
        "  Point();\n",
        "  Point(int newX, int newY);\n",
        "  void setX(int newX);\n",
        "  void setY(int newY);\n",
        "  int getX()  {return x;};\n",
        "  int getY()  {return y;};\n",
        "  double distanceFromOrigin();\n",
        "  double distanceFromOther(Point other);\n",
        "\n",
        "private:\n",
        "  int x, y;\n",
        "};\n",
        "\n",
        "// main entry point\n",
        "int main() {\n",
        "  // use the new class\n",
        "  Point target;\n",
        "  Point other;\n",
        "  int x, y, x2, y2;\n",
        "  double distance;\n",
        "  double distance2;\n",
        "  cout << \"Enter x coordinate: \";\n",
        "  cin >> x;\n",
        "  cout << \"Enter y coordinate: \";\n",
        "  cin >> y;\n",
        "  cout << \"Enter x coordinate: \";\n",
        "  cin >> x2;\n",
        "  cout << \"Enter y coordinate: \";\n",
        "  cin >> y2;\n",
        "  // TODO: assign values\n",
        "  target.setX(x);\n",
        "  target.setY(y);\n",
        "  other.setX(x2);\n",
        "  other.setY(y2);\n",
        "\n",
        "  // TODO: obtain distance\n",
        "  distance = target.distanceFromOrigin();\n",
        "  distance2 = target.distanceFromOther(other);\n",
        "\n",
        "  cout << \"The target is \" << distance << \" units from origin.\" << endl;\n",
        "  cout << \"The target is \" << distance2 << \" units from.\" << other.getX() << \", \" << other.getY()<< endl;\n",
        "\n",
        "  return 0;\n",
        "}\n",
        "\n",
        "//\tClass implementation comes later!\n",
        "Point::Point(){\n",
        "  x=0;\n",
        "  y=0;\n",
        "}\n",
        "Point::Point(int newX, int newY){\n",
        "  x=newX;\n",
        "  y=newY;\n",
        "}\n",
        "void Point::setX(int newX) {\n",
        "  x = newX;\n",
        "}\n",
        "\n",
        "void Point::setY(int newY) {\n",
        "  y = newY;\n",
        "}\n",
        "\n",
        "double Point::distanceFromOrigin() {\n",
        "  return sqrt(pow(x, 2) + pow(y, 2));\n",
        "}\n",
        "double Point::distanceFromOther(Point other){\n",
        "  double distance2;\n",
        "  distance2 = sqrt(pow((x - other.getX()),2) + pow((y - other.getY()),2));\n",
        " // cout << distance2 << \"****\";\n",
        "  return distance2;\n",
        "}"
      ]
    },
    {
      "cell_type": "code",
      "execution_count": 24,
      "metadata": {
        "vscode": {
          "languageId": "plaintext"
        },
        "colab": {
          "base_uri": "https://localhost:8080/"
        },
        "id": "K6MXezr1q4um",
        "outputId": "08dbbabe-006b-4c18-b8b2-d539ccbacd56"
      },
      "outputs": [
        {
          "output_type": "stream",
          "name": "stdout",
          "text": [
            "Enter x coordinate: Enter y coordinate: Enter x coordinate: Enter y coordinate: The target is 5 units from origin.\n",
            "The target is 3.16228 units from.2, 1\n"
          ]
        }
      ],
      "source": [
        "%%script bash\n",
        "g++ main.cpp -o main && echo \"3 4 2 1\" | ./main"
      ]
    },
    {
      "cell_type": "markdown",
      "metadata": {
        "id": "LCJ7Sttgq4um"
      },
      "source": [
        "## Model 2: Constructors\n",
        "\n",
        "Tasks:\n",
        "* Create a constructor that takes two parameters\n",
        "  * length and width\n",
        "* Create a constructor that takes three parameters\n",
        "  * length, width, and symbol\n",
        "\n",
        "Steps:\n",
        "* Define the constructor prototypes.\n",
        "* Write out the constructor definition.\n",
        "* Call the new constructor from `main()`."
      ]
    },
    {
      "cell_type": "code",
      "execution_count": 5,
      "metadata": {
        "vscode": {
          "languageId": "plaintext"
        },
        "colab": {
          "base_uri": "https://localhost:8080/"
        },
        "id": "OWq-NPawq4un",
        "outputId": "bc3812d7-0980-4499-8c06-c7aaf5c68028"
      },
      "outputs": [
        {
          "output_type": "stream",
          "name": "stdout",
          "text": [
            "Overwriting main.cpp\n"
          ]
        }
      ],
      "source": [
        "%%writefile main.cpp\n",
        "#include <iostream>\n",
        "using namespace std;\n",
        "\n",
        "class Rectangle {\n",
        "public:\n",
        "  Rectangle();\n",
        "\n",
        "  // TODO Create a constructor with length and width parameters\n",
        "Rectangle::Rectangle(int newLength, int newWidth, char newSymbol);\n",
        "\n",
        "\n",
        "  // TODO Create a constructor with length, width, and symbol parameters\n",
        "\n",
        "\n",
        "  int getArea();\n",
        "  void drawRectangle();\n",
        "\n",
        "private:\n",
        "  int length;\n",
        "  int width;\n",
        "  char symbol = '*';\n",
        "};\n",
        "\n",
        "Rectangle::Rectangle() {\n",
        "  length = 1;\n",
        "  width = 1;\n",
        "}\n",
        "\n",
        "// TODO Define the constructor with length and width parameters\n",
        "Rectangle::Rectangle(int newLength, int newWidth, char newSymbol){\n",
        "    length = newLength;\n",
        "    width = newWidth;\n",
        "    symbol = newSymbol;\n",
        "  }\n",
        "// TODO Define the constructor with length, width, and symbol parameters\n",
        "Rectangle::Rectangle(int newLength, int newWidth){\n",
        "    length = newLength;\n",
        "    width = newWidth;\n",
        "  }\n",
        "int Rectangle::getArea() {\n",
        "  return length * width;\n",
        "}\n",
        "\n",
        "void Rectangle::drawRectangle() {\n",
        "  for (int l = 0; l < length; l++) {\n",
        "    for (int w = 0; w < width; w++) {\n",
        "      cout << symbol;\n",
        "    }\n",
        "    cout << endl;\n",
        "  }\n",
        "}\n",
        "\n",
        "int main() {\n",
        "  // With Default Constructor\n",
        "  Rectangle rect;\n",
        "  cout << \"The rectangle area is \" << rect.getArea() << \".\" << endl;\n",
        "  rect.drawRectangle();\n",
        "\n",
        "  // Get user input for length and width.\n",
        "  int length, width;\n",
        "  cout << \"Rectangle length: \";\n",
        "  cin >> length;\n",
        "  cout << \"Rectangle width: \";\n",
        "  cin >> width;\n",
        "\n",
        "  // TODO Call a constructor using the user's length and width.\n",
        "\n",
        "  // Print the rectangle using the user's length and width specifications.\n",
        "  cout << \"The rectangle area is \" << rect2.getArea() << \".\" << endl;\n",
        "  rect2.drawRectangle();\n",
        "\n",
        "  // Get user input for length, width, and symbol.\n",
        "  char symbol;\n",
        "  cout << \"Rectangle length: \";\n",
        "  cin >> length;\n",
        "  cout << \"Rectangle width: \";\n",
        "  cin >> width;\n",
        "  cout << \"The symbol to draw with: \";\n",
        "  cin >> symbol;\n",
        "\n",
        "  // TODO Call a constructor using the user's length, width and sympol.\n",
        "\n",
        "  // Print the rectangle using the user's length, width, and symbol\n",
        "  // specifications.\n",
        "  cout << \"The rectangle area is \" << rect3.getArea() << \".\" << endl;\n",
        "  rect3.drawRectangle();\n",
        "\n",
        "  return 0;\n",
        "}"
      ]
    },
    {
      "cell_type": "code",
      "execution_count": 6,
      "metadata": {
        "vscode": {
          "languageId": "plaintext"
        },
        "colab": {
          "base_uri": "https://localhost:8080/",
          "height": 612
        },
        "id": "5zYKfWqFq4un",
        "outputId": "222072f5-2c8c-4027-8770-9fe2533262af"
      },
      "outputs": [
        {
          "output_type": "stream",
          "name": "stderr",
          "text": [
            "main.cpp:9:3: error: extra qualification ‘Rectangle::’ on member ‘Rectangle’ [-fpermissive]\n",
            "    9 |   Rectangle::Rectangle(int newLength, int newWidth){\n",
            "      |   ^~~~~~~~~\n",
            "main.cpp:15:3: error: extra qualification ‘Rectangle::’ on member ‘Rectangle’ [-fpermissive]\n",
            "   15 |   Rectangle::Rectangle(int newLength, int newWidth, char newSymbol){\n",
            "      |   ^~~~~~~~~\n",
            "main.cpp: In function ‘int main()’:\n",
            "main.cpp:68:39: error: ‘rect2’ was not declared in this scope; did you mean ‘rect’?\n",
            "   68 |   cout << \"The rectangle area is \" << rect2.getArea() << \".\" << endl;\n",
            "      |                                       ^~~~~\n",
            "      |                                       rect\n",
            "main.cpp:84:39: error: ‘rect3’ was not declared in this scope; did you mean ‘rect’?\n",
            "   84 |   cout << \"The rectangle area is \" << rect3.getArea() << \".\" << endl;\n",
            "      |                                       ^~~~~\n",
            "      |                                       rect\n"
          ]
        },
        {
          "output_type": "error",
          "ename": "CalledProcessError",
          "evalue": "Command 'b'g++ main.cpp -o main && echo \"3 4 4 5 +\" | ./main\\n'' returned non-zero exit status 1.",
          "traceback": [
            "\u001b[0;31m---------------------------------------------------------------------------\u001b[0m",
            "\u001b[0;31mCalledProcessError\u001b[0m                        Traceback (most recent call last)",
            "\u001b[0;32m<ipython-input-6-63dbd3092a3a>\u001b[0m in \u001b[0;36m<cell line: 0>\u001b[0;34m()\u001b[0m\n\u001b[0;32m----> 1\u001b[0;31m \u001b[0mget_ipython\u001b[0m\u001b[0;34m(\u001b[0m\u001b[0;34m)\u001b[0m\u001b[0;34m.\u001b[0m\u001b[0mrun_cell_magic\u001b[0m\u001b[0;34m(\u001b[0m\u001b[0;34m'script'\u001b[0m\u001b[0;34m,\u001b[0m \u001b[0;34m'bash'\u001b[0m\u001b[0;34m,\u001b[0m \u001b[0;34m'g++ main.cpp -o main && echo \"3 4 4 5 +\" | ./main\\n'\u001b[0m\u001b[0;34m)\u001b[0m\u001b[0;34m\u001b[0m\u001b[0;34m\u001b[0m\u001b[0m\n\u001b[0m",
            "\u001b[0;32m/usr/local/lib/python3.11/dist-packages/google/colab/_shell.py\u001b[0m in \u001b[0;36mrun_cell_magic\u001b[0;34m(self, magic_name, line, cell)\u001b[0m\n\u001b[1;32m    332\u001b[0m     \u001b[0;32mif\u001b[0m \u001b[0mline\u001b[0m \u001b[0;32mand\u001b[0m \u001b[0;32mnot\u001b[0m \u001b[0mcell\u001b[0m\u001b[0;34m:\u001b[0m\u001b[0;34m\u001b[0m\u001b[0;34m\u001b[0m\u001b[0m\n\u001b[1;32m    333\u001b[0m       \u001b[0mcell\u001b[0m \u001b[0;34m=\u001b[0m \u001b[0;34m' '\u001b[0m\u001b[0;34m\u001b[0m\u001b[0;34m\u001b[0m\u001b[0m\n\u001b[0;32m--> 334\u001b[0;31m     \u001b[0;32mreturn\u001b[0m \u001b[0msuper\u001b[0m\u001b[0;34m(\u001b[0m\u001b[0;34m)\u001b[0m\u001b[0;34m.\u001b[0m\u001b[0mrun_cell_magic\u001b[0m\u001b[0;34m(\u001b[0m\u001b[0mmagic_name\u001b[0m\u001b[0;34m,\u001b[0m \u001b[0mline\u001b[0m\u001b[0;34m,\u001b[0m \u001b[0mcell\u001b[0m\u001b[0;34m)\u001b[0m\u001b[0;34m\u001b[0m\u001b[0;34m\u001b[0m\u001b[0m\n\u001b[0m\u001b[1;32m    335\u001b[0m \u001b[0;34m\u001b[0m\u001b[0m\n\u001b[1;32m    336\u001b[0m \u001b[0;34m\u001b[0m\u001b[0m\n",
            "\u001b[0;32m/usr/local/lib/python3.11/dist-packages/IPython/core/interactiveshell.py\u001b[0m in \u001b[0;36mrun_cell_magic\u001b[0;34m(self, magic_name, line, cell)\u001b[0m\n\u001b[1;32m   2471\u001b[0m             \u001b[0;32mwith\u001b[0m \u001b[0mself\u001b[0m\u001b[0;34m.\u001b[0m\u001b[0mbuiltin_trap\u001b[0m\u001b[0;34m:\u001b[0m\u001b[0;34m\u001b[0m\u001b[0;34m\u001b[0m\u001b[0m\n\u001b[1;32m   2472\u001b[0m                 \u001b[0margs\u001b[0m \u001b[0;34m=\u001b[0m \u001b[0;34m(\u001b[0m\u001b[0mmagic_arg_s\u001b[0m\u001b[0;34m,\u001b[0m \u001b[0mcell\u001b[0m\u001b[0;34m)\u001b[0m\u001b[0;34m\u001b[0m\u001b[0;34m\u001b[0m\u001b[0m\n\u001b[0;32m-> 2473\u001b[0;31m                 \u001b[0mresult\u001b[0m \u001b[0;34m=\u001b[0m \u001b[0mfn\u001b[0m\u001b[0;34m(\u001b[0m\u001b[0;34m*\u001b[0m\u001b[0margs\u001b[0m\u001b[0;34m,\u001b[0m \u001b[0;34m**\u001b[0m\u001b[0mkwargs\u001b[0m\u001b[0;34m)\u001b[0m\u001b[0;34m\u001b[0m\u001b[0;34m\u001b[0m\u001b[0m\n\u001b[0m\u001b[1;32m   2474\u001b[0m             \u001b[0;32mreturn\u001b[0m \u001b[0mresult\u001b[0m\u001b[0;34m\u001b[0m\u001b[0;34m\u001b[0m\u001b[0m\n\u001b[1;32m   2475\u001b[0m \u001b[0;34m\u001b[0m\u001b[0m\n",
            "\u001b[0;32m<decorator-gen-103>\u001b[0m in \u001b[0;36mshebang\u001b[0;34m(self, line, cell)\u001b[0m\n",
            "\u001b[0;32m/usr/local/lib/python3.11/dist-packages/IPython/core/magic.py\u001b[0m in \u001b[0;36m<lambda>\u001b[0;34m(f, *a, **k)\u001b[0m\n\u001b[1;32m    185\u001b[0m     \u001b[0;31m# but it's overkill for just that one bit of state.\u001b[0m\u001b[0;34m\u001b[0m\u001b[0;34m\u001b[0m\u001b[0m\n\u001b[1;32m    186\u001b[0m     \u001b[0;32mdef\u001b[0m \u001b[0mmagic_deco\u001b[0m\u001b[0;34m(\u001b[0m\u001b[0marg\u001b[0m\u001b[0;34m)\u001b[0m\u001b[0;34m:\u001b[0m\u001b[0;34m\u001b[0m\u001b[0;34m\u001b[0m\u001b[0m\n\u001b[0;32m--> 187\u001b[0;31m         \u001b[0mcall\u001b[0m \u001b[0;34m=\u001b[0m \u001b[0;32mlambda\u001b[0m \u001b[0mf\u001b[0m\u001b[0;34m,\u001b[0m \u001b[0;34m*\u001b[0m\u001b[0ma\u001b[0m\u001b[0;34m,\u001b[0m \u001b[0;34m**\u001b[0m\u001b[0mk\u001b[0m\u001b[0;34m:\u001b[0m \u001b[0mf\u001b[0m\u001b[0;34m(\u001b[0m\u001b[0;34m*\u001b[0m\u001b[0ma\u001b[0m\u001b[0;34m,\u001b[0m \u001b[0;34m**\u001b[0m\u001b[0mk\u001b[0m\u001b[0;34m)\u001b[0m\u001b[0;34m\u001b[0m\u001b[0;34m\u001b[0m\u001b[0m\n\u001b[0m\u001b[1;32m    188\u001b[0m \u001b[0;34m\u001b[0m\u001b[0m\n\u001b[1;32m    189\u001b[0m         \u001b[0;32mif\u001b[0m \u001b[0mcallable\u001b[0m\u001b[0;34m(\u001b[0m\u001b[0marg\u001b[0m\u001b[0;34m)\u001b[0m\u001b[0;34m:\u001b[0m\u001b[0;34m\u001b[0m\u001b[0;34m\u001b[0m\u001b[0m\n",
            "\u001b[0;32m/usr/local/lib/python3.11/dist-packages/IPython/core/magics/script.py\u001b[0m in \u001b[0;36mshebang\u001b[0;34m(self, line, cell)\u001b[0m\n\u001b[1;32m    243\u001b[0m             \u001b[0msys\u001b[0m\u001b[0;34m.\u001b[0m\u001b[0mstderr\u001b[0m\u001b[0;34m.\u001b[0m\u001b[0mflush\u001b[0m\u001b[0;34m(\u001b[0m\u001b[0;34m)\u001b[0m\u001b[0;34m\u001b[0m\u001b[0;34m\u001b[0m\u001b[0m\n\u001b[1;32m    244\u001b[0m         \u001b[0;32mif\u001b[0m \u001b[0margs\u001b[0m\u001b[0;34m.\u001b[0m\u001b[0mraise_error\u001b[0m \u001b[0;32mand\u001b[0m \u001b[0mp\u001b[0m\u001b[0;34m.\u001b[0m\u001b[0mreturncode\u001b[0m\u001b[0;34m!=\u001b[0m\u001b[0;36m0\u001b[0m\u001b[0;34m:\u001b[0m\u001b[0;34m\u001b[0m\u001b[0;34m\u001b[0m\u001b[0m\n\u001b[0;32m--> 245\u001b[0;31m             \u001b[0;32mraise\u001b[0m \u001b[0mCalledProcessError\u001b[0m\u001b[0;34m(\u001b[0m\u001b[0mp\u001b[0m\u001b[0;34m.\u001b[0m\u001b[0mreturncode\u001b[0m\u001b[0;34m,\u001b[0m \u001b[0mcell\u001b[0m\u001b[0;34m,\u001b[0m \u001b[0moutput\u001b[0m\u001b[0;34m=\u001b[0m\u001b[0mout\u001b[0m\u001b[0;34m,\u001b[0m \u001b[0mstderr\u001b[0m\u001b[0;34m=\u001b[0m\u001b[0merr\u001b[0m\u001b[0;34m)\u001b[0m\u001b[0;34m\u001b[0m\u001b[0;34m\u001b[0m\u001b[0m\n\u001b[0m\u001b[1;32m    246\u001b[0m \u001b[0;34m\u001b[0m\u001b[0m\n\u001b[1;32m    247\u001b[0m     \u001b[0;32mdef\u001b[0m \u001b[0m_run_script\u001b[0m\u001b[0;34m(\u001b[0m\u001b[0mself\u001b[0m\u001b[0;34m,\u001b[0m \u001b[0mp\u001b[0m\u001b[0;34m,\u001b[0m \u001b[0mcell\u001b[0m\u001b[0;34m,\u001b[0m \u001b[0mto_close\u001b[0m\u001b[0;34m)\u001b[0m\u001b[0;34m:\u001b[0m\u001b[0;34m\u001b[0m\u001b[0;34m\u001b[0m\u001b[0m\n",
            "\u001b[0;31mCalledProcessError\u001b[0m: Command 'b'g++ main.cpp -o main && echo \"3 4 4 5 +\" | ./main\\n'' returned non-zero exit status 1."
          ]
        }
      ],
      "source": [
        "%%script bash\n",
        "g++ main.cpp -o main && echo \"3 4 4 5 +\" | ./main"
      ]
    }
  ],
  "metadata": {
    "colab": {
      "provenance": []
    },
    "kernelspec": {
      "display_name": ".venv",
      "language": "python",
      "name": "python3"
    },
    "language_info": {
      "codemirror_mode": {
        "name": "ipython",
        "version": 3
      },
      "file_extension": ".py",
      "mimetype": "text/x-python",
      "name": "python",
      "nbconvert_exporter": "python",
      "pygments_lexer": "ipython3",
      "version": "3.13.1"
    }
  },
  "nbformat": 4,
  "nbformat_minor": 0
}