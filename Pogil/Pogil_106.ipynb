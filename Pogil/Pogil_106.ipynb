{
  "nbformat": 4,
  "nbformat_minor": 0,
  "metadata": {
    "colab": {
      "provenance": [],
      "toc_visible": true
    },
    "kernelspec": {
      "name": "python3",
      "display_name": "Python 3"
    },
    "language_info": {
      "name": "python"
    }
  },
  "cells": [
    {
      "cell_type": "markdown",
      "source": [
        "# Pogil Activity on Chapter 6: User-Defined Functions"
      ],
      "metadata": {
        "id": "kO91MNPMFfaX"
      }
    },
    {
      "cell_type": "markdown",
      "source": [
        "## Model 1: A C++ Program\n",
        "\n",
        "Run the following to create a C++ program."
      ],
      "metadata": {
        "id": "HwYX8NxjFl6D"
      }
    },
    {
      "cell_type": "code",
      "execution_count": 8,
      "metadata": {
        "id": "bBpXlN-OFbT4",
        "outputId": "dd0d9748-3e49-48b1-b925-059902bfd745",
        "colab": {
          "base_uri": "https://localhost:8080/"
        }
      },
      "outputs": [
        {
          "output_type": "stream",
          "name": "stdout",
          "text": [
            "Overwriting main.cpp\n"
          ]
        }
      ],
      "source": [
        "%%writefile main.cpp\n",
        "#include <iostream>\n",
        "using namespace std;\n",
        "\n",
        "void printMessage() {\n",
        "  cout << \"Welcome to C++.\" << endl;\n",
        "  cout << \"Learn the power of functions!\" << endl;\n",
        "}\n",
        "\n",
        "int main() {\n",
        "  cout << \"Hello Programmer!\" << endl;\n",
        "  printMessage();     // function call\n",
        "}\n"
      ]
    },
    {
      "cell_type": "markdown",
      "source": [
        "Review the code above and predict what it will print. Then run the following to compile and execute the program."
      ],
      "metadata": {
        "id": "hEtp7d1JIL-e"
      }
    },
    {
      "cell_type": "code",
      "source": [
        "%%script bash\n",
        "g++ main.cpp -o main && ./main"
      ],
      "metadata": {
        "id": "iNFKBjuOIM5u",
        "outputId": "47764219-e635-4178-b4d3-3dbdcf6b3f8d",
        "colab": {
          "base_uri": "https://localhost:8080/"
        }
      },
      "execution_count": 9,
      "outputs": [
        {
          "output_type": "stream",
          "name": "stdout",
          "text": [
            "Hello Programmer!\n",
            "Welcome to C++.\n",
            "Learn the power of functions!\n"
          ]
        }
      ]
    },
    {
      "cell_type": "markdown",
      "source": [
        "Refer to Model 1 above as your team develops consensus answers to the questions below.\n",
        "\n",
        "1. A function is a segment of code that encapsulates a single task. That is, it combines multiple lines of code into a single command.\n",
        "\n",
        "  (a) Which lines of code belong to the function `printMessage`?\n",
        "  <br><br>\n",
        "  (b) What other function is defined in this code?\n",
        "  <br><br>\n",
        "  (c) What does the function `printMessage` do?\n",
        "  <br><br><br><br>\n",
        "\n",
        "2. A _function definition_ is the segment of code that tells the program what to do with the function is executed.  It contains a _function header_ (the first line of the definition) and a _function body_ (the commands that make up the function).\n",
        "\n",
        "  (a) On what line is the function header for `printMessage`?\n",
        "  <br><br>\n",
        "  (b) On what lines is the function body for `printMessage`?\n",
        "  <br><br>\n",
        "\n",
        "3. A _function call_ is a command that executes the function. Use the code found in Model 1 to assist you in answering this question.\n",
        "\n",
        "  (a) On what line is the function `printMessage` called?\n",
        "  <br><br>\n",
        "  (b) What happens if you swap the two lines in the body of `main` in the model above?\n",
        "  <br><br><br><br>\n",
        "  (c) What line of code could you add to make the program print the last two lines from the original model output twice? Where would you add the code?\n",
        "  <br><br><br><br>"
      ],
      "metadata": {
        "id": "dw19aAE1IPfS"
      }
    },
    {
      "cell_type": "markdown",
      "source": [
        "## Model 2: A C++ Function\n",
        "\n",
        "Run the following to create a C++ program."
      ],
      "metadata": {
        "id": "tzEd7IbFJ7Eg"
      }
    },
    {
      "cell_type": "code",
      "source": [
        "%%writefile main.cpp\n",
        "#include <iostream>\n",
        "#include <cmath>\n",
        "#include <iomanip>\n",
        "\n",
        "using namespace std;\n",
        "\n",
        "void printArea(double radius) {\n",
        "  double area = 3.14159 * pow(radius, 2);\n",
        "  cout << fixed << setprecision(2);\n",
        "  cout << \"The area of a circle with radius \"\n",
        "       << radius << \" is \" << area << endl;\n",
        "}\n",
        "\n",
        "int main() {\n",
        "  double rad;\n",
        "  cout << \"Hello Programmer!\" << endl;\n",
        "  cout << \"enter a radius: \" << endl;\n",
        "  cin >> rad;\n",
        "  printArea(rad);\n",
        "\n",
        "  return 0;\n",
        "}"
      ],
      "metadata": {
        "id": "06vTvJOhKLLF",
        "outputId": "238f4317-3182-4432-f309-bcbd311aa5ca",
        "colab": {
          "base_uri": "https://localhost:8080/"
        }
      },
      "execution_count": 27,
      "outputs": [
        {
          "output_type": "stream",
          "name": "stdout",
          "text": [
            "Overwriting main.cpp\n"
          ]
        }
      ]
    },
    {
      "cell_type": "code",
      "source": [
        "%%script bash\n",
        "g++ main.cpp -o main && echo \"4\" |  ./main"
      ],
      "metadata": {
        "id": "bzlwGwtQKaml",
        "outputId": "61a0d276-b2b3-4c0d-d632-16019de2839f",
        "colab": {
          "base_uri": "https://localhost:8080/"
        }
      },
      "execution_count": 31,
      "outputs": [
        {
          "output_type": "stream",
          "name": "stdout",
          "text": [
            "Hello Programmer!\n",
            "enter a radius: \n",
            "The area of a circle with radius 4.00 is 50.27\n"
          ]
        }
      ]
    },
    {
      "cell_type": "markdown",
      "source": [
        "Refer to Model 2 above as your team develops consensus answers to the questions below.\n",
        "\n",
        "4. What does the first function do?\n",
        "<br><br>\n",
        "5. Copy down the function header below and underline the name of the function.\n",
        "<br><br>\n",
        "6. Other than using a different name, how is this function header different from the header in Model 1?\n",
        "<br><br>\n",
        "7. A variable defined in a function header is called a _parameter_. What is the name and purpose of the parameter in this function?\n",
        "<br><br>\n",
        "8. Determine the output produced by each of the following calls to this function. You may find it helpful to use edit `main` in Model 2 and then rerun the program.\n",
        "  (a) `printArea(3);`\n",
        "  <br><br>\n",
        "  (b) `printArea(4.5);`\n",
        "  <br><br>\n",
        "\n",
        "9. Modify `main` in the Model 2 to prompt the user for a radius and then call the function `printArea` with that radius. Try out a few values.\n",
        "\n",
        "10. An _argument_ is a value that is passed into the function. The value may come from a literal (such as `3`), a variable (such as `x`), or a more complex expression (such as `x + 3`).\n",
        "\n",
        "  (a) What are the arguments in the two function calls in question 8?\n",
        "  <br><br>\n",
        "  (b) What is the argument in your solution to question 9?\n",
        "  <br><br>\n",
        "  (c) What happens to these arguments inside the function?\n",
        "  <br><br><br><br>\n",
        "  (d) When using a single variable as an argument, does it need to have the same name as the corresponding parameter?\n",
        "  <br><br>\n",
        "\n",
        "11. Write a function that calculates and prints out the diameter of a circle with a given radius.\n",
        "<br><br><br><br><br><br><br><br>\n",
        "\n",
        "12. Add this function to the program in Model 2 and add a function call for the same user-entered radius you used in question #9. Did your function work as expected?\n",
        "<br><br>"
      ],
      "metadata": {
        "id": "YI1yeIpRKbTU"
      }
    },
    {
      "cell_type": "markdown",
      "source": [
        "## Model 3: A Program with Functions and Branches\n",
        "\n",
        "Run the following to create a C++ program."
      ],
      "metadata": {
        "id": "ce1eOWCXM3qo"
      }
    },
    {
      "cell_type": "code",
      "source": [
        "%%writefile main.cpp\n",
        "#include <iostream>\n",
        "using namespace std;\n",
        "\n",
        "// first function\n",
        "void printSum(int num1, int num2) {\n",
        "  cout << num1 << \" + \" << num2 << \" = \" << (num1 + num2) << endl;\n",
        "}\n",
        "\n",
        "// second function\n",
        "void printDifference(int num1, int num2) {\n",
        "  cout << num1 << \" - \" << num2 << \" = \" << (num1 - num2) << endl;\n",
        "}\n",
        "\n",
        "// main program\n",
        "int main() {\n",
        "  // define variables\n",
        "  int firstNumber, secondNumber;\n",
        "  char operation;\n",
        "\n",
        "  // collect user input\n",
        "  cout << \"Enter a number between 1 and 10: \";\n",
        "  cin >> firstNumber;\n",
        "  cout << \"Enter another number between 1 and 10: \";\n",
        "  cin >> secondNumber;\n",
        "  cout << \"Enter a '+' to add or a '-' to subtract: \";\n",
        "  cin >> operation;\n",
        "\n",
        "  // decide which function to call\n",
        "  if (operation == '+') {\n",
        "    printSum(firstNumber, secondNumber);\n",
        "  } else if (operation == '-') {\n",
        "    printDifference(firstNumber, secondNumber);\n",
        "  } else {\n",
        "    cout << \"Invalid Operation\" << endl;\n",
        "  }\n",
        "}"
      ],
      "metadata": {
        "id": "ZBQ0ShOaM-6o"
      },
      "execution_count": null,
      "outputs": []
    },
    {
      "cell_type": "markdown",
      "source": [
        "Refer to Model 3 above as your team develops consensus answers to the questions below.\n",
        "\n",
        "13. What is the first line of code that is executed in this program?\n",
        "\n",
        "14. Use the following to execute this program with the following inputs and record the results.\n",
        "\n",
        "| Data Set | First Number | Second Number | Operation | Result |\n",
        "| :------: |:-----------: |:------------: |:--------: |:-----: |\n",
        "| 1 |  2 |  6 | + | |\n",
        "| 2 |  3 |  8 | - | |\n",
        "| 3 | 34 | 23 | + | |\n",
        "| 4 |  4 |  5 | / | |\n"
      ],
      "metadata": {
        "id": "WPyRaqU4NQkD"
      }
    },
    {
      "cell_type": "code",
      "source": [
        "%%script bash\n",
        "g++ main.cpp -o main && ./main"
      ],
      "metadata": {
        "id": "POy5psUYNPx6"
      },
      "execution_count": null,
      "outputs": []
    },
    {
      "cell_type": "markdown",
      "source": [
        "15. What problems do you see when you entered data set 3?\n",
        "<br><br><br><br>\n",
        "16. Write a function named `checkRange` that takes two integer values as parameters, checks to make sure they are both between 1 and 10, and prints out a warning if they are not. For example, calling `checkRange(34,23)` might result in the following output.\n",
        "\n",
        "**WARNING! At least one of the numbers you entered was out of range!**\n",
        "<br><br><br><br><br><br><br><br><br><br>\n",
        "\n",
        "17. Modify the first two functions in the original Model 3 to produce the following sample output. Do not change the main function.\n",
        "\n",
        "```\n",
        "Enter a number between 1 and 10: 56\n",
        "Enter another number between 1 and 10: 4\n",
        "Enter a '+' to add or a '-' to subtract: +\n",
        "56 + 4 = 60\n",
        "WARNING! At least one of the numbers you entered was out of range!\n",
        "```"
      ],
      "metadata": {
        "id": "SwlZm-HtOOPJ"
      }
    },
    {
      "cell_type": "markdown",
      "source": [
        "## Model 4: A C++ Program\n",
        "\n",
        "Run the following to create a C++ program."
      ],
      "metadata": {
        "id": "-urmkMO6Pw6G"
      }
    },
    {
      "cell_type": "code",
      "source": [
        "%%writefile main.cpp\n",
        "#include <iostream>\n",
        "using namespace std;\n",
        "\n",
        "int getSmaller(int num1, int num2) {\n",
        "  int smaller;\n",
        "  if (num1 < num2) {\n",
        "    smaller = num1;\n",
        "  } else {\n",
        "    smaller = num2;\n",
        "  }\n",
        "  return smaller;\n",
        "}\n",
        "\n",
        "int main() {\n",
        "  int userNum1, userNum2;\n",
        "  cout << \"Enter two numbers separated by a space: \";\n",
        "  cin >> userNum1 >> userNum2;\n",
        "  int smallerNum = getSmaller(userNum1, userNum2);\n",
        "  cout << \"The smaller number is \" << smallerNum << endl;\n",
        "}"
      ],
      "metadata": {
        "id": "Wm4QLL7MP4mU"
      },
      "execution_count": null,
      "outputs": []
    },
    {
      "cell_type": "markdown",
      "source": [
        "Refer to Model 4 above as your team develops consensus answers to the questions below.\n",
        "\n",
        "18. What does the `getSmaller` function do?\n",
        "<br><br><br><br>\n",
        "\n",
        "19. So far you have created `void` functions which do not send any information back to the calling code. A _value-returning_ function does send information of a particular type back to the calling code.\n",
        "\n",
        "  (a) What _type_ of value does the function `getSmaller` return?\n",
        "  <br><br>\n",
        "  (b) On what line of code is the function call to `getSmaller`? (Use Tools -> Settings -> Editor -> Show line numbers to enable line numbers or circle the function call on your printed copy.)\n",
        "  <br><br>\n",
        "  (c) On what line does the function getSmaller send back a value?\n",
        "  <br><br>\n",
        "\n",
        "20. In a _void function_ the function call is on a line by itself. Why is the function call in this model on the right-hand-side of an assignment statement?\n",
        "<br><br><br><br>\n",
        "\n",
        "21. If you wanted to alter this function to select and return the smaller of two `double` values, what changes would you need to make?\n",
        "<br><br><br><br>"
      ],
      "metadata": {
        "id": "QLSeanleQHJR"
      }
    },
    {
      "cell_type": "markdown",
      "source": [
        "## Model 5: A C++ Function\n",
        "\n",
        "Run the following to create a C++ program."
      ],
      "metadata": {
        "id": "kq8m49QLRiwx"
      }
    },
    {
      "cell_type": "code",
      "source": [
        "%%writefile main.cpp\n",
        "#include <iostream>\n",
        "using namespace std;\n",
        "\n",
        "void getHypotenuse(double a, double b) {\n",
        "  double square = pow(a, 2) + pow(b, 2);\n",
        "  double squareRoot = sqrt(square);\n",
        "  cout << \"The hypotenuse length is \" << squareRoot << endl;\n",
        "}\n",
        "\n",
        "int main() {\n",
        "  getHypotenuse(3.0, 4.0);\n",
        "}"
      ],
      "metadata": {
        "id": "bIEK9dXgRqN8"
      },
      "execution_count": null,
      "outputs": []
    },
    {
      "cell_type": "markdown",
      "source": [
        "Refer to the `getHypotenuse` function in Model 5 above as your team develops consensus answers to the questions below.\n",
        "\n",
        "22. What does this function do?\n",
        "<br><br><br><br>\n",
        "\n",
        "23. Is this a void function or a value-returning function?\n",
        "<br><br>\n",
        "\n",
        "24. Suppose you wanted to turn this into a value-returning function that returns the hypotenuse length.\n",
        "\n",
        "  (a) How would you change the function header?\n",
        "  <br><br><br><br>\n",
        "\n",
        "  (b) What command would you add to the end of the function?\n",
        "  <br><br><br><br>\n",
        "\n",
        "  (c) What line would you remove from the function and why?\n",
        "  <br><br><br><br>\n",
        "\n",
        "25. What is the difference between using cout in a function and using return in a function?\n",
        "  <br><br><br><br><br><br><br><br>"
      ],
      "metadata": {
        "id": "TapY7-ouSbOD"
      }
    },
    {
      "cell_type": "markdown",
      "source": [
        "## Model 6: Program Output and the `main` Function\n",
        "\n",
        "Run the following to create a C++ program."
      ],
      "metadata": {
        "id": "Yl0dqfLaTSgU"
      }
    },
    {
      "cell_type": "code",
      "source": [
        "%%writefile main.cpp\n",
        "#include <iostream>\n",
        "using namespace std;\n",
        "\n",
        "int main() {\n",
        "  int userNum, compNum;\n",
        "  char tryAgain;\n",
        "  srand(time(0));\n",
        "  do {\n",
        "    do {\n",
        "      cout << \"Enter a number from 1 to 5: \";\n",
        "      cin >> userNum;\n",
        "      if (userNum < 1 || userNum > 5) {\n",
        "        cout << \"Invalid Number!\" << endl;\n",
        "      }\n",
        "    } while (userNum < 1 || userNum > 5);\n",
        "    compNum = rand() % 5 + 1;\n",
        "    cout << \"Computer number: \"\n",
        "         << compNum << endl;\n",
        "    cout << \"Your number: \"\n",
        "         << userNum << endl;\n",
        "    cout << getMessage(userNum, compNum);\n",
        "    cout << \"Try again (y/n)? \";\n",
        "    cin >> tryAgain;\n",
        "  } while (tryAgain == 'y');\n",
        "}"
      ],
      "metadata": {
        "id": "tzzsxqXCTdpL"
      },
      "execution_count": null,
      "outputs": []
    },
    {
      "cell_type": "code",
      "source": [
        "%%script bash\n",
        "g++ main.cpp -o main && ./main"
      ],
      "metadata": {
        "id": "N0m49BteUdBY"
      },
      "execution_count": null,
      "outputs": []
    },
    {
      "cell_type": "markdown",
      "source": [
        "Refer to Model 6 above as your team develops consensus answers to the questions below.\n",
        "\n",
        "26. There is one user-defined function that is missing from this program.\n",
        "\n",
        "  (a) What is the name of the missing function?\n",
        "  <br><br>\n",
        "  (b) Is the missing function void or value-returning?\n",
        "  <br><br>\n",
        "  (c) What are the type(s) of its parameters?\n",
        "  <br><br>\n",
        "  (d) Write the header for the function.\n",
        "  <br><br><br><br>\n",
        "\n",
        "27. Does the missing function contain any cout statements? Explain your reasoning.\n",
        "<br><br><br><br>\n",
        "\n",
        "28. Suppose the line with the `getMessage()` function call was changed to just `getMessage(userNum,compNum);`. How would this\n",
        "change your answers to questions 27 and 28 above?\n",
        "<br><br><br><br><br><br><br><br>\n",
        "\n",
        "29. Now write the function definition assuming that the function header is as shown below.\n",
        "\n",
        "`string getMessage(int userNum, int compNum)`\n",
        "<br><br><br><br><br><br><br><br>\n",
        "\n",
        "30. Write a different version of this same function assuming that the function call was changed to just `getMessage(userNum, compNum);` and using the following function header.\n",
        "\n",
        "`void getMessage(int userNum, int compNum)`"
      ],
      "metadata": {
        "id": "h7SZ4DWqTmEi"
      }
    }
  ]
}